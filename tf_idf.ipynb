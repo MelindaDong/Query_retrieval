{
 "cells": [
  {
   "cell_type": "code",
   "execution_count": 1,
   "metadata": {},
   "outputs": [],
   "source": [
    "import nltk\n",
    "from nltk.corpus import stopwords\n",
    "from nltk.tokenize import word_tokenize\n",
    "from nltk.stem.porter import PorterStemmer\n",
    "from nltk.stem import WordNetLemmatizer\n",
    "#from sklearn.feature_extraction.text import CountVectorizer\n",
    "\n",
    "import pandas as pd\n",
    "import numpy as np\n",
    "import re"
   ]
  },
  {
   "cell_type": "code",
   "execution_count": 2,
   "metadata": {},
   "outputs": [
    {
     "name": "stderr",
     "output_type": "stream",
     "text": [
      "/var/folders/tr/3_k_czmn2552n9rftmys1pwh0000gn/T/ipykernel_47000/806793109.py:1: FutureWarning: The error_bad_lines argument has been deprecated and will be removed in a future version. Use on_bad_lines in the future.\n",
      "\n",
      "\n",
      "  Data = pd.read_csv('data.tsv', sep='\\t', error_bad_lines=False)\n",
      "b'Skipping line 83032: expected 6 fields, saw 7\\n'\n",
      "b'Skipping line 154657: expected 6 fields, saw 7\\n'\n",
      "b'Skipping line 323916: expected 6 fields, saw 7\\n'\n",
      "/var/folders/tr/3_k_czmn2552n9rftmys1pwh0000gn/T/ipykernel_47000/806793109.py:1: DtypeWarning: Columns (1) have mixed types. Specify dtype option on import or set low_memory=False.\n",
      "  Data = pd.read_csv('data.tsv', sep='\\t', error_bad_lines=False)\n"
     ]
    }
   ],
   "source": [
    "Data = pd.read_csv('data.tsv', sep='\\t', error_bad_lines=False)"
   ]
  },
  {
   "cell_type": "code",
   "execution_count": 3,
   "metadata": {},
   "outputs": [
    {
     "data": {
      "text/html": [
       "<div>\n",
       "<style scoped>\n",
       "    .dataframe tbody tr th:only-of-type {\n",
       "        vertical-align: middle;\n",
       "    }\n",
       "\n",
       "    .dataframe tbody tr th {\n",
       "        vertical-align: top;\n",
       "    }\n",
       "\n",
       "    .dataframe thead th {\n",
       "        text-align: right;\n",
       "    }\n",
       "</style>\n",
       "<table border=\"1\" class=\"dataframe\">\n",
       "  <thead>\n",
       "    <tr style=\"text-align: right;\">\n",
       "      <th></th>\n",
       "      <th>id</th>\n",
       "      <th>qid1</th>\n",
       "      <th>qid2</th>\n",
       "      <th>question1</th>\n",
       "      <th>question2</th>\n",
       "      <th>is_duplicate</th>\n",
       "    </tr>\n",
       "  </thead>\n",
       "  <tbody>\n",
       "    <tr>\n",
       "      <th>0</th>\n",
       "      <td>133273</td>\n",
       "      <td>213221</td>\n",
       "      <td>213222.0</td>\n",
       "      <td>How is the life of a math student? Could you d...</td>\n",
       "      <td>Which level of prepration is enough for the ex...</td>\n",
       "      <td>0.0</td>\n",
       "    </tr>\n",
       "    <tr>\n",
       "      <th>1</th>\n",
       "      <td>402555</td>\n",
       "      <td>536040</td>\n",
       "      <td>536041.0</td>\n",
       "      <td>How do I control my horny emotions?</td>\n",
       "      <td>How do you control your horniness?</td>\n",
       "      <td>1.0</td>\n",
       "    </tr>\n",
       "    <tr>\n",
       "      <th>2</th>\n",
       "      <td>360472</td>\n",
       "      <td>364011</td>\n",
       "      <td>490273.0</td>\n",
       "      <td>What causes stool color to change to yellow?</td>\n",
       "      <td>What can cause stool to come out as little balls?</td>\n",
       "      <td>0.0</td>\n",
       "    </tr>\n",
       "    <tr>\n",
       "      <th>3</th>\n",
       "      <td>150662</td>\n",
       "      <td>155721</td>\n",
       "      <td>7256.0</td>\n",
       "      <td>What can one do after MBBS?</td>\n",
       "      <td>What do i do after my MBBS ?</td>\n",
       "      <td>1.0</td>\n",
       "    </tr>\n",
       "    <tr>\n",
       "      <th>4</th>\n",
       "      <td>183004</td>\n",
       "      <td>279958</td>\n",
       "      <td>279959.0</td>\n",
       "      <td>Where can I find a power outlet for my laptop ...</td>\n",
       "      <td>Would a second airport in Sydney, Australia be...</td>\n",
       "      <td>0.0</td>\n",
       "    </tr>\n",
       "  </tbody>\n",
       "</table>\n",
       "</div>"
      ],
      "text/plain": [
       "       id    qid1      qid2  \\\n",
       "0  133273  213221  213222.0   \n",
       "1  402555  536040  536041.0   \n",
       "2  360472  364011  490273.0   \n",
       "3  150662  155721    7256.0   \n",
       "4  183004  279958  279959.0   \n",
       "\n",
       "                                           question1  \\\n",
       "0  How is the life of a math student? Could you d...   \n",
       "1                How do I control my horny emotions?   \n",
       "2       What causes stool color to change to yellow?   \n",
       "3                        What can one do after MBBS?   \n",
       "4  Where can I find a power outlet for my laptop ...   \n",
       "\n",
       "                                           question2  is_duplicate  \n",
       "0  Which level of prepration is enough for the ex...           0.0  \n",
       "1                 How do you control your horniness?           1.0  \n",
       "2  What can cause stool to come out as little balls?           0.0  \n",
       "3                       What do i do after my MBBS ?           1.0  \n",
       "4  Would a second airport in Sydney, Australia be...           0.0  "
      ]
     },
     "execution_count": 3,
     "metadata": {},
     "output_type": "execute_result"
    }
   ],
   "source": [
    "Data.head()"
   ]
  },
  {
   "cell_type": "code",
   "execution_count": 4,
   "metadata": {},
   "outputs": [
    {
     "data": {
      "text/plain": [
       "(363192, 6)"
      ]
     },
     "execution_count": 4,
     "metadata": {},
     "output_type": "execute_result"
    }
   ],
   "source": [
    "Data.shape"
   ]
  },
  {
   "cell_type": "code",
   "execution_count": 5,
   "metadata": {},
   "outputs": [
    {
     "name": "stdout",
     "output_type": "stream",
     "text": [
      "<class 'pandas.core.frame.DataFrame'>\n",
      "RangeIndex: 363192 entries, 0 to 363191\n",
      "Data columns (total 6 columns):\n",
      " #   Column        Non-Null Count   Dtype  \n",
      "---  ------        --------------   -----  \n",
      " 0   id            363192 non-null  object \n",
      " 1   qid1          363192 non-null  object \n",
      " 2   qid2          363185 non-null  float64\n",
      " 3   question1     363181 non-null  object \n",
      " 4   question2     363180 non-null  object \n",
      " 5   is_duplicate  363180 non-null  float64\n",
      "dtypes: float64(2), object(4)\n",
      "memory usage: 16.6+ MB\n"
     ]
    }
   ],
   "source": [
    "Data.info()"
   ]
  },
  {
   "cell_type": "code",
   "execution_count": 6,
   "metadata": {},
   "outputs": [],
   "source": [
    "# remove duplicates\n",
    "Data.drop_duplicates(inplace=True)"
   ]
  },
  {
   "cell_type": "code",
   "execution_count": 7,
   "metadata": {},
   "outputs": [
    {
     "data": {
      "text/plain": [
       "(363191, 6)"
      ]
     },
     "execution_count": 7,
     "metadata": {},
     "output_type": "execute_result"
    }
   ],
   "source": [
    "Data.shape"
   ]
  },
  {
   "cell_type": "code",
   "execution_count": 8,
   "metadata": {},
   "outputs": [],
   "source": [
    "# fillter the first 100 'question1' with 'is_duplicate' == 1.0\n",
    "Q1 = Data[Data['is_duplicate'] == 1.0].head(100)\n",
    "# keep only the 'question1' column\n",
    "Q1 = Q1['question1']"
   ]
  },
  {
   "cell_type": "code",
   "execution_count": 9,
   "metadata": {},
   "outputs": [],
   "source": [
    "Q2= Data['question2']\n",
    "# test Q2 as the first 1000 'question2'\n",
    "#Q2 = Data['question2'].head(1000)\n",
    "Q2 = Q2.astype(str) # make sure the type is string\n"
   ]
  },
  {
   "attachments": {},
   "cell_type": "markdown",
   "metadata": {},
   "source": [
    "## Preprocessing"
   ]
  },
  {
   "cell_type": "code",
   "execution_count": 10,
   "metadata": {},
   "outputs": [],
   "source": [
    "#Process the review column line by line to do text preprocessing\n",
    "def process_review(review):\n",
    "    # remove the punctuations and numbers\n",
    "    review = re.sub(r'[^A-Za-z]+', ' ', review)\n",
    "    # convert the review to lower case\n",
    "    review = review.lower()\n",
    "    # remove the stopwords\n",
    "    stop_words = set(stopwords.words('english'))\n",
    "    # tokenize the words\n",
    "    word_tokens = word_tokenize(review)\n",
    "    filtered_review = [w for w in word_tokens if not w in stop_words]\n",
    "    # stem the words\n",
    "    stemmer = PorterStemmer()\n",
    "    stemmed_review = [stemmer.stem(w) for w in filtered_review]\n",
    "    # # lemmatize the words\n",
    "    # lemmatizer = WordNetLemmatizer()\n",
    "    # lemmatized_review = [lemmatizer.lemmatize(w) for w in stemmed_review]\n",
    "    # return the processed review\n",
    "    return stemmed_review"
   ]
  },
  {
   "cell_type": "code",
   "execution_count": 11,
   "metadata": {},
   "outputs": [],
   "source": [
    "# process the train and test reviews\n",
    "Q1 = Q1.apply(process_review)\n",
    "Q2 = Q2.apply(process_review)"
   ]
  },
  {
   "cell_type": "code",
   "execution_count": 12,
   "metadata": {},
   "outputs": [
    {
     "data": {
      "text/plain": [
       "1                                [control, horni, emot]\n",
       "3                                            [one, mbb]\n",
       "7           [best, self, help, book, read, chang, life]\n",
       "11    [hillari, clinton, polici, toward, india, beco...\n",
       "13       [best, book, studi, tensor, gener, rel, basic]\n",
       "Name: question1, dtype: object"
      ]
     },
     "execution_count": 12,
     "metadata": {},
     "output_type": "execute_result"
    }
   ],
   "source": [
    "Q1.head()"
   ]
  },
  {
   "cell_type": "code",
   "execution_count": 13,
   "metadata": {},
   "outputs": [
    {
     "data": {
      "text/plain": [
       "0                 [level, preprat, enough, exam, jlpt]\n",
       "1                                     [control, horni]\n",
       "2                     [caus, stool, come, littl, ball]\n",
       "3                                                [mbb]\n",
       "4    [would, second, airport, sydney, australia, ne...\n",
       "Name: question2, dtype: object"
      ]
     },
     "execution_count": 13,
     "metadata": {},
     "output_type": "execute_result"
    }
   ],
   "source": [
    "Q2.head()"
   ]
  },
  {
   "attachments": {},
   "cell_type": "markdown",
   "metadata": {},
   "source": [
    "## TF-IDF"
   ]
  },
  {
   "cell_type": "code",
   "execution_count": 14,
   "metadata": {},
   "outputs": [
    {
     "data": {
      "text/plain": [
       "39990"
      ]
     },
     "execution_count": 14,
     "metadata": {},
     "output_type": "execute_result"
    }
   ],
   "source": [
    "#build a unique vocabulary from the Q2\n",
    "vocab = set()\n",
    "for Q in Q2:\n",
    "    vocab.update(Q)\n",
    "\n",
    "len(vocab)"
   ]
  },
  {
   "cell_type": "code",
   "execution_count": 15,
   "metadata": {},
   "outputs": [
    {
     "data": {
      "text/plain": [
       "[('weldon', 0),\n",
       " ('havala', 1),\n",
       " ('hagrid', 2),\n",
       " ('coy', 3),\n",
       " ('allus', 4),\n",
       " ('apostroph', 5),\n",
       " ('vasoconstrict', 6),\n",
       " ('ramess', 7),\n",
       " ('tambora', 8),\n",
       " ('kanha', 9)]"
      ]
     },
     "execution_count": 15,
     "metadata": {},
     "output_type": "execute_result"
    }
   ],
   "source": [
    "# covert each word into a unique integer\n",
    "word2int = {}\n",
    "for i,word in enumerate(vocab):\n",
    "    word2int[word] = i\n",
    "\n",
    "# show the first 10 in word2int dictionary\n",
    "list(word2int.items())[:10]"
   ]
  },
  {
   "cell_type": "code",
   "execution_count": 16,
   "metadata": {},
   "outputs": [
    {
     "data": {
      "text/plain": [
       "'xnxx'"
      ]
     },
     "execution_count": 16,
     "metadata": {},
     "output_type": "execute_result"
    }
   ],
   "source": [
    "# search by key\n",
    "word2int['move']\n",
    "\n",
    "# search by value\n",
    "def get_key(val):\n",
    "    for key, value in word2int.items():\n",
    "        if val == value:\n",
    "            return key\n",
    "        \n",
    "    return \"key doesn't exist\"\n",
    "\n",
    "get_key(836)\n"
   ]
  },
  {
   "cell_type": "code",
   "execution_count": 17,
   "metadata": {},
   "outputs": [],
   "source": [
    "# create a term frequency matrix\n",
    "def count_TF_matrix(Q):\n",
    "    # initialize a matrix of zeros\n",
    "    row = len(Q)\n",
    "    col = len(vocab)\n",
    "    tf_matrix = np.zeros((row, col), dtype=np.float32)\n",
    "    # fill the matrix with the frequency of each word\n",
    "    for i, Q in enumerate(Q):\n",
    "        len_Q = len(Q)\n",
    "        for word in Q:\n",
    "            tf_matrix[i][word2int[word]] += 1/len_Q\n",
    "    return tf_matrix"
   ]
  },
  {
   "cell_type": "code",
   "execution_count": 18,
   "metadata": {},
   "outputs": [],
   "source": [
    "TF_matrix_Q2 = count_TF_matrix(Q2)"
   ]
  },
  {
   "cell_type": "code",
   "execution_count": 19,
   "metadata": {},
   "outputs": [
    {
     "data": {
      "text/plain": [
       "(363191, 39990)"
      ]
     },
     "execution_count": 19,
     "metadata": {},
     "output_type": "execute_result"
    }
   ],
   "source": [
    "TF_matrix_Q2.shape"
   ]
  },
  {
   "cell_type": "code",
   "execution_count": 20,
   "metadata": {},
   "outputs": [],
   "source": [
    "# calculate the IDF \n",
    "N = len(TF_matrix_Q2)\n",
    "DF = np.count_nonzero(TF_matrix_Q2, axis=0)\n",
    "DF = DF.astype(np.float32)\n",
    "IDF = np.log(N/DF + 1)"
   ]
  },
  {
   "cell_type": "code",
   "execution_count": 21,
   "metadata": {},
   "outputs": [
    {
     "ename": "",
     "evalue": "",
     "output_type": "error",
     "traceback": [
      "\u001b[1;31mCanceled future for execute_request message before replies were done"
     ]
    },
    {
     "ename": "",
     "evalue": "",
     "output_type": "error",
     "traceback": [
      "\u001b[1;31mThe Kernel crashed while executing code in the the current cell or a previous cell. Please review the code in the cell(s) to identify a possible cause of the failure. Click <a href='https://aka.ms/vscodeJupyterKernelCrash'>here</a> for more info. View Jupyter <a href='command:jupyter.viewOutput'>log</a> for further details."
     ]
    }
   ],
   "source": [
    "# calculate the TF-IDF matrix\n",
    "TF_IDF_matrix_Q2 = TF_matrix_Q2 * IDF\n",
    "TF_IDF_matrix_Q2.shape\n"
   ]
  },
  {
   "cell_type": "code",
   "execution_count": null,
   "metadata": {},
   "outputs": [],
   "source": [
    "# create a inverted file dictionary, with key as word and value as the (doc_id, TF-IDF) tuple\n",
    "def create_inverted_file(TF_IDF_matrix):\n",
    "    inverted_file = {}\n",
    "    for i, Q in enumerate(Q2):\n",
    "        for word in Q:\n",
    "            if word not in inverted_file.keys():\n",
    "                inverted_file[word] = [(i, TF_IDF_matrix[i][word2int[word]])]\n",
    "            else:\n",
    "                inverted_file[word].append((i, TF_IDF_matrix[i][word2int[word]]))\n",
    "    return inverted_file"
   ]
  },
  {
   "cell_type": "code",
   "execution_count": null,
   "metadata": {},
   "outputs": [],
   "source": [
    "inverted_file_Q2 = create_inverted_file(TF_IDF_matrix_Q2)\n",
    "inverted_file_Q2"
   ]
  },
  {
   "cell_type": "code",
   "execution_count": null,
   "metadata": {},
   "outputs": [],
   "source": [
    "# test the inverted file\n",
    "# get the first query in Q1\n",
    "test_Q = Q1.iloc[3]\n",
    "test_Q # the ground truth is 11"
   ]
  },
  {
   "cell_type": "code",
   "execution_count": null,
   "metadata": {},
   "outputs": [],
   "source": [
    "# get the top5 similar questions\n",
    "def get_top5_similar_questions(test_Q):\n",
    "    # initialize a dictionary to store the similarity score\n",
    "    similarity_score = {}\n",
    "    # calculate the similarity score\n",
    "    for word in test_Q:\n",
    "        if word in inverted_file_Q2.keys():\n",
    "            for i, TF_IDF in inverted_file_Q2[word]:\n",
    "                if i not in similarity_score.keys():\n",
    "                    similarity_score[i] = TF_IDF\n",
    "                else:\n",
    "                    similarity_score[i] += TF_IDF\n",
    "    # sort the similarity score in descending order\n",
    "    similarity_score = sorted(similarity_score.items(), key=lambda x: x[1], reverse=True)\n",
    "    # get the top5 similar questions\n",
    "    top5_similar_questions = []\n",
    "    for i in range(5):\n",
    "        top5_similar_questions.append(similarity_score[i][0])\n",
    "    return top5_similar_questions"
   ]
  },
  {
   "cell_type": "code",
   "execution_count": null,
   "metadata": {},
   "outputs": [],
   "source": [
    "top_index = get_top5_similar_questions(test_Q)\n",
    "top_index"
   ]
  },
  {
   "cell_type": "code",
   "execution_count": null,
   "metadata": {},
   "outputs": [],
   "source": [
    "# print sentences acording to the index\n",
    "for i in top_index:\n",
    "    print(Q2.iloc[i])\n",
    "    print('\\n')\n"
   ]
  }
 ],
 "metadata": {
  "kernelspec": {
   "display_name": "base",
   "language": "python",
   "name": "python3"
  },
  "language_info": {
   "codemirror_mode": {
    "name": "ipython",
    "version": 3
   },
   "file_extension": ".py",
   "mimetype": "text/x-python",
   "name": "python",
   "nbconvert_exporter": "python",
   "pygments_lexer": "ipython3",
   "version": "3.9.13"
  },
  "orig_nbformat": 4
 },
 "nbformat": 4,
 "nbformat_minor": 2
}
